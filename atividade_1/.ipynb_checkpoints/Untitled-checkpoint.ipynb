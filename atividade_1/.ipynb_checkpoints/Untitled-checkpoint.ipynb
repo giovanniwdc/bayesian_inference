{
 "cells": [
  {
   "cell_type": "code",
   "execution_count": 15,
   "id": "65f184e0-422f-42b9-9c9b-8103745152a8",
   "metadata": {},
   "outputs": [],
   "source": [
    "import numpy as np \n",
    "from scipy.special import factorial\n",
    "from scipy.special import gamma"
   ]
  },
  {
   "cell_type": "code",
   "execution_count": 16,
   "id": "7840f729-6c08-47c8-a261-0c2b79a35e4a",
   "metadata": {},
   "outputs": [],
   "source": [
    "np.random.seed(42)"
   ]
  },
  {
   "cell_type": "code",
   "execution_count": 13,
   "id": "cc8a9f4d-1a6e-4d46-800d-56e0c1135a4e",
   "metadata": {},
   "outputs": [],
   "source": [
    "samples = []\n",
    "\n",
    "samples_size = [10, 50, 100, 500, 1000]\n",
    "\n",
    "for s in samples_size:\n",
    "    \n",
    "    samples.append(np.random.poisson(5, s))"
   ]
  },
  {
   "cell_type": "code",
   "execution_count": 23,
   "id": "e7b1e586-6bb7-4f1d-acaf-64fb7e4b51ee",
   "metadata": {},
   "outputs": [],
   "source": [
    "def likelihood(sample):\n",
    "    \n",
    "    return lambda o: o**(np.sum(sample))*np.e**(-len(sample)*o)/np.prod(factorial(sample))"
   ]
  },
  {
   "cell_type": "code",
   "execution_count": 24,
   "id": "7efc7325-2736-4844-beae-ae2feffdf15d",
   "metadata": {},
   "outputs": [],
   "source": [
    "likelihoods = []\n",
    "\n",
    "for sample in samples:\n",
    "    \n",
    "    likelihoods.append(likelihood(sample))"
   ]
  },
  {
   "cell_type": "code",
   "execution_count": 25,
   "id": "f8b46ede-fe72-46c3-95e1-d4fa4f9912a6",
   "metadata": {},
   "outputs": [
    {
     "data": {
      "text/plain": [
       "[<function __main__.likelihood.<locals>.<lambda>(o)>,\n",
       " <function __main__.likelihood.<locals>.<lambda>(o)>,\n",
       " <function __main__.likelihood.<locals>.<lambda>(o)>,\n",
       " <function __main__.likelihood.<locals>.<lambda>(o)>,\n",
       " <function __main__.likelihood.<locals>.<lambda>(o)>]"
      ]
     },
     "execution_count": 25,
     "metadata": {},
     "output_type": "execute_result"
    }
   ],
   "source": [
    "def gamma(a, b):\n",
    "    \n",
    "    return lambda o: b**a*o**(a-1)*np.e**(-b*o)\n",
    "    "
   ]
  },
  {
   "cell_type": "code",
   "execution_count": null,
   "id": "48fad9d7-5f27-440e-81a0-65c0ee611f1f",
   "metadata": {},
   "outputs": [],
   "source": []
  }
 ],
 "metadata": {
  "kernelspec": {
   "display_name": "Python 3",
   "language": "python",
   "name": "python3"
  },
  "language_info": {
   "codemirror_mode": {
    "name": "ipython",
    "version": 3
   },
   "file_extension": ".py",
   "mimetype": "text/x-python",
   "name": "python",
   "nbconvert_exporter": "python",
   "pygments_lexer": "ipython3",
   "version": "3.8.8"
  }
 },
 "nbformat": 4,
 "nbformat_minor": 5
}
